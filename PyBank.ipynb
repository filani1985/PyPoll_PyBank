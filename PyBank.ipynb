{
 "cells": [
  {
   "cell_type": "code",
   "execution_count": 32,
   "metadata": {},
   "outputs": [],
   "source": [
    "import os"
   ]
  },
  {
   "cell_type": "code",
   "execution_count": 33,
   "metadata": {},
   "outputs": [],
   "source": [
    "import csv"
   ]
  },
  {
   "cell_type": "code",
   "execution_count": 34,
   "metadata": {},
   "outputs": [],
   "source": [
    "csvpath = os.path.join('Resources', 'budget_data.csv')"
   ]
  },
  {
   "cell_type": "code",
   "execution_count": 35,
   "metadata": {},
   "outputs": [
    {
     "name": "stdout",
     "output_type": "stream",
     "text": [
      "<_csv.reader object at 0x000001B2590F8F50>\n",
      "CSV Header: ['Date', 'Profit/Losses']\n",
      "Financial Analysis\n",
      "----------------------------\n",
      "Total Months: 86\n",
      "Total: $38382578\n",
      "Average Revenue Change: $-2288.198\n",
      "Greatest Increase in Profits: Feb-2012 ($1170593)\n",
      "Greatest Decrease in Profits: Sep-2013 ($-1196225)\n",
      "----------------------------\n"
     ]
    }
   ],
   "source": [
    "with open(csvpath, newline='') as csvfile: #Reading the dataset as csvfile\n",
    "    csvreader = csv.reader(csvfile, delimiter=',')\n",
    "    print(csvreader)\n",
    "    csv_header = next(csvreader) \n",
    "    print(f\"CSV Header: {csv_header}\") #Used fString method to pull variable name and printing the headers\n",
    "    \n",
    "    monthsTotal = 0\n",
    "    revenueTotal = 0\n",
    "    current_month_revenue = 0\n",
    "    previous_month_revenue = 0\n",
    "    revenue_change = 0\n",
    "    revenue_changes = []\n",
    "    profitgreatest = 0\n",
    "    profitDateGreatest = \"\"\n",
    "    lossGreatest = 0\n",
    "    lossDateGreatest = \"\"\n",
    "    \n",
    "    for row in csvreader: #looping through each row in our dataset\n",
    "        #add 1 to total month count\n",
    "        monthsTotal += 1\n",
    "        #add value to net amount\n",
    "        revenueTotal += int(row[1])\n",
    "        \n",
    "        current_month_revenue = int(row[1])\n",
    "        if monthsTotal > 1:\n",
    "            revenue_change = current_month_revenue - previous_month_revenue\n",
    "            revenue_changes.append(revenue_change)\n",
    "        previous_month_revenue = current_month_revenue\n",
    "        \n",
    "        sum_rev_changes = sum(revenue_changes)\n",
    "        average_change = round((sum_rev_changes / monthsTotal),3)\n",
    "        \n",
    "        #if next entry's revenue value is positive,\n",
    "        if (int(row[1]) > 0):\n",
    "            #compare it to the current greatest profit value, if greater,\n",
    "            if (int(row[1]) > profitgreatest):\n",
    "                #replace the greatest profit value and date\n",
    "                profitDateGreatest = row[0]\n",
    "                profitgreatest = int(row[1])\n",
    "        #if next entry's revenue value is negative,\n",
    "        if (int(row[1]) < 0):\n",
    "            #compare it to the current greatest loss value, if lesser,\n",
    "            if (int(row[1]) < lossGreatest):\n",
    "                #replace the greatest loss value and date\n",
    "                lossDateGreatest = row[0]\n",
    "                lossGreatest = int(row[1])\n",
    "            \n",
    "\n",
    "#output statements as required\n",
    "print(\"Financial Analysis\")\n",
    "print(\"----------------------------\")\n",
    "print(\"Total Months: \" + str(monthsTotal))\n",
    "print(\"Total: $\" + str(revenueTotal))\n",
    "print(f\"Average Revenue Change: ${average_change}\")\n",
    "print(\"Greatest Increase in Profits: \" + profitDateGreatest + \" ($\" + str(profitgreatest) + \")\")\n",
    "print(\"Greatest Decrease in Profits: \" + lossDateGreatest + \" ($\" + str(lossGreatest) + \")\")\n",
    "print(\"----------------------------\")"
   ]
  },
  {
   "cell_type": "code",
   "execution_count": 36,
   "metadata": {},
   "outputs": [],
   "source": [
    "#defining output name/location\n",
    "output_path = os.path.join(os.getcwd(), \"Analysis\", \"analysis.txt\")\n",
    "\n",
    "#using CSV module to write file\n",
    "with open(output_path, 'w', newline='') as csvfile:\n",
    "    csvwriter = csv.writer(csvfile, delimiter=',')\n",
    "    #write the first row (column headers)\n",
    "    csvwriter.writerow([\"Financial Analysis\"])\n",
    "    csvwriter.writerow([\"----------------------------\"])\n",
    "    csvwriter.writerow([\"Total Months: \" + str(monthsTotal)])\n",
    "    csvwriter.writerow([\"Total: \" + str(revenueTotal)])\n",
    "    csvwriter.writerow([f\"Average Revenue Change: ${average_change}\"])\n",
    "    csvwriter.writerow([\"Greatest Increase in Profits: \" + profitDateGreatest + \" ($\" + str(profitgreatest) + \")\"])\n",
    "    csvwriter.writerow([\"Greatest Decrease in Profits: \" + lossDateGreatest + \" ($\" + str(lossGreatest) + \")\"])\n",
    "    csvwriter.writerow([\"----------------------------\"])"
   ]
  },
  {
   "cell_type": "code",
   "execution_count": null,
   "metadata": {},
   "outputs": [],
   "source": []
  },
  {
   "cell_type": "code",
   "execution_count": null,
   "metadata": {},
   "outputs": [],
   "source": []
  },
  {
   "cell_type": "code",
   "execution_count": null,
   "metadata": {},
   "outputs": [],
   "source": []
  }
 ],
 "metadata": {
  "kernelspec": {
   "display_name": "Python 3",
   "language": "python",
   "name": "python3"
  },
  "language_info": {
   "codemirror_mode": {
    "name": "ipython",
    "version": 3
   },
   "file_extension": ".py",
   "mimetype": "text/x-python",
   "name": "python",
   "nbconvert_exporter": "python",
   "pygments_lexer": "ipython3",
   "version": "3.7.6"
  }
 },
 "nbformat": 4,
 "nbformat_minor": 2
}
